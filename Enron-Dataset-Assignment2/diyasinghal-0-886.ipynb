{
 "cells": [
  {
   "cell_type": "code",
   "execution_count": 713,
   "metadata": {},
   "outputs": [],
   "source": [
    "import sys\n",
    "import pickle\n",
    "import numpy as np\n",
    "import pprint\n",
    "import matplotlib.pyplot as plt\n",
    "\n",
    "from feature_format import featureFormat, targetFeatureSplit"
   ]
  },
  {
   "cell_type": "code",
   "execution_count": 714,
   "metadata": {},
   "outputs": [],
   "source": [
    "features_list = ['poi','salary', 'expenses', 'total_stock_value', 'bonus', 'from_poi_to_this_person', 'shared_receipt_with_poi'] # You will need to use more features\n",
    "\n",
    "financial_features = ['salary', 'deferral_payments', 'total_payments', 'loan_advances', 'bonus', 'restricted_stock_deferred', 'deferred_income', 'total_stock_value',\n",
    "'expenses', 'exercised_stock_options', 'other', 'long_term_incentive', 'restricted_stock', 'director_fees']\n",
    "email_features = ['to_messages', 'email_address', 'from_poi_to_this_person', 'from_messages', 'from_this_person_to_poi', 'shared_receipt_with_poi']\n",
    "POI_label = ['poi']\n",
    "total_features = POI_label + financial_features + email_features"
   ]
  },
  {
   "cell_type": "code",
   "execution_count": 715,
   "metadata": {},
   "outputs": [],
   "source": [
    "original = \"../input/final_project_dataset.pkl\"\n",
    "destination = \"final_dataset.pkl\"\n",
    "\n",
    "content = ''\n",
    "outsize = 0\n",
    "with open(original, 'rb') as infile:\n",
    "    content = infile.read()\n",
    "with open(destination, 'wb') as output:\n",
    "    for line in content.splitlines():\n",
    "        outsize += len(line) + 1\n",
    "        output.write(line + str.encode('\\n'))\n",
    "        \n",
    "data_dict = pickle.load(open(\"final_dataset.pkl\", \"rb\") )"
   ]
  },
  {
   "cell_type": "code",
   "execution_count": 716,
   "metadata": {},
   "outputs": [
    {
     "name": "stdout",
     "output_type": "stream",
     "text": [
      "Total number of data points =  146\n",
      "number of POI =  18\n",
      "number of non-POI =  128\n"
     ]
    }
   ],
   "source": [
    "print( 'Total number of data points = ', len(data_dict))\n",
    "\n",
    "# allocation across classes (POI/non-POI)\n",
    "poi_count = 0\n",
    "for employee in data_dict:\n",
    "    if data_dict[employee]['poi'] == True:\n",
    "        poi_count += 1\n",
    "print ('number of POI = ', poi_count)\n",
    "print ('number of non-POI = ', len(data_dict) - poi_count)"
   ]
  },
  {
   "cell_type": "code",
   "execution_count": 717,
   "metadata": {},
   "outputs": [
    {
     "name": "stdout",
     "output_type": "stream",
     "text": [
      "total number of available features for every employee =  21 which are:  ['poi', 'salary', 'deferral_payments', 'total_payments', 'loan_advances', 'bonus', 'restricted_stock_deferred', 'deferred_income', 'total_stock_value', 'expenses', 'exercised_stock_options', 'other', 'long_term_incentive', 'restricted_stock', 'director_fees', 'to_messages', 'email_address', 'from_poi_to_this_person', 'from_messages', 'from_this_person_to_poi', 'shared_receipt_with_poi']\n",
      "number of features used =  7 which are:  ['poi', 'salary', 'expenses', 'total_stock_value', 'bonus', 'from_poi_to_this_person', 'shared_receipt_with_poi']\n"
     ]
    }
   ],
   "source": [
    "print ('total number of available features for every employee = ', len(total_features), 'which are: ', total_features)\n",
    "print ('number of features used = ', len(features_list), 'which are: ', features_list)"
   ]
  },
  {
   "cell_type": "code",
   "execution_count": 718,
   "metadata": {},
   "outputs": [
    {
     "name": "stdout",
     "output_type": "stream",
     "text": [
      "missing values:  {'poi': 0, 'salary': 51, 'deferral_payments': 107, 'total_payments': 21, 'loan_advances': 142, 'bonus': 64, 'restricted_stock_deferred': 128, 'deferred_income': 97, 'total_stock_value': 20, 'expenses': 51, 'exercised_stock_options': 44, 'other': 53, 'long_term_incentive': 80, 'restricted_stock': 36, 'director_fees': 129, 'to_messages': 60, 'email_address': 35, 'from_poi_to_this_person': 60, 'from_messages': 60, 'from_this_person_to_poi': 60, 'shared_receipt_with_poi': 60}\n"
     ]
    }
   ],
   "source": [
    "# are there features with many missing values? etc.\n",
    "missing_values = {}\n",
    "for feat in total_features:\n",
    "    missing_values[feat] = 0\n",
    "\n",
    "for emp in data_dict:\n",
    "    for f in data_dict[emp]:\n",
    "        if data_dict[emp][f] == 'NaN':\n",
    "            missing_values[f] += 1\n",
    "            # fill NaN values\n",
    "            # data_dict[emp][f] = 0\n",
    "\n",
    "print ('missing values: ', missing_values)"
   ]
  },
  {
   "cell_type": "code",
   "execution_count": 719,
   "metadata": {},
   "outputs": [
    {
     "data": {
      "image/png": "[encoded data removed]",
      "text/plain": [
       "<Figure size 432x288 with 1 Axes>"
      ]
     },
     "metadata": {
      "needs_background": "light"
     },
     "output_type": "display_data"
    }
   ],
   "source": [
    "### Task 2: Remove outliers\n",
    "\n",
    "def show_scatter_plot(dataset, feature1, feature2):\n",
    "    \"\"\" given two features feature1 (x) and feature2 (y),\n",
    "    this function creates a 2D scatter plot showing\n",
    "    both x and y\n",
    "    \"\"\"\n",
    "    data = featureFormat(dataset, [feature1, feature2])\n",
    "    for p in data:\n",
    "        x = p[0]\n",
    "        y = p[1]\n",
    "        plt.scatter(x, y)\n",
    "\n",
    "    plt.xlabel(feature1)\n",
    "    plt.ylabel(feature2)\n",
    "    plt.show()\n",
    "\n",
    "# identify outliers\n",
    "show_scatter_plot(data_dict, \"salary\", \"bonus\")"
   ]
  },
  {
   "cell_type": "code",
   "execution_count": 720,
   "metadata": {},
   "outputs": [
    {
     "data": {
      "image/png": "[encoded data removed]",
      "text/plain": [
       "<Figure size 432x288 with 1 Axes>"
      ]
     },
     "metadata": {
      "needs_background": "light"
     },
     "output_type": "display_data"
    }
   ],
   "source": [
    "# remove them\n",
    "data_dict.pop( \"TOTAL\", 0 )\n",
    "show_scatter_plot(data_dict, \"salary\", \"bonus\")"
   ]
  },
  {
   "cell_type": "code",
   "execution_count": 723,
   "metadata": {},
   "outputs": [
    {
     "name": "stdout",
     "output_type": "stream",
     "text": [
      "['poi', 'salary', 'deferral_payments', 'total_payments', 'loan_advances', 'bonus', 'restricted_stock_deferred', 'deferred_income', 'total_stock_value', 'expenses', 'exercised_stock_options', 'other', 'long_term_incentive', 'restricted_stock', 'director_fees', 'to_messages', 'from_poi_to_this_person', 'from_messages', 'from_this_person_to_poi', 'shared_receipt_with_poi', 'fraction_from_poi', 'fraction_to_poi']\n"
     ]
    }
   ],
   "source": [
    "\n",
    "print (features_list_n)"
   ]
  },
  {
   "cell_type": "code",
   "execution_count": 724,
   "metadata": {},
   "outputs": [],
   "source": [
    "### Extract features and labels from dataset for local testing\n",
    "data = featureFormat(my_dataset, features_list_n, sort_keys = True)\n",
    "labels, features = targetFeatureSplit(data)"
   ]
  },
  {
   "cell_type": "code",
   "execution_count": 725,
   "metadata": {},
   "outputs": [
    {
     "name": "stdout",
     "output_type": "stream",
     "text": [
      "SelectKBest scores:  [('exercised_stock_options', 26.072941672944893), ('total_stock_value', 25.348673850647494), ('salary', 23.770231578776766), ('bonus', 20.974710696003893), ('long_term_incentive', 19.870598875622523), ('deferred_income', 15.896499023196773), ('fraction_to_poi', 11.583333333333332), ('total_payments', 9.957034634458488), ('restricted_stock', 9.486454961558342), ('shared_receipt_with_poi', 9.251139305175016), ('other', 8.034939274134839), ('loan_advances', 7.122246648449134), ('expenses', 6.1838731924800046), ('from_poi_to_this_person', 5.869084217202265), ('from_this_person_to_poi', 2.303043684451413), ('director_fees', 2.001002660565871), ('to_messages', 1.7402175966047715), ('restricted_stock_deferred', 0.8407310820613253), ('from_messages', 0.1759299115498897), ('deferral_payments', 0.08853560893631832), ('fraction_from_poi', 0.0)]\n",
      "KBest ['poi', 'exercised_stock_options', 'total_stock_value', 'salary', 'bonus', 'long_term_incentive', 'deferred_income', 'fraction_to_poi', 'total_payments', 'restricted_stock', 'shared_receipt_with_poi']\n"
     ]
    }
   ],
   "source": [
    "# intelligently select features (univariate feature selection)\n",
    "from sklearn.feature_selection import SelectKBest, f_classif\n",
    "selector = SelectKBest(f_classif, k = 10)\n",
    "selector.fit(features, labels)\n",
    "scores = zip(features_list_n[1:], selector.scores_)\n",
    "sorted_scores = sorted(scores, key = takeSecond, reverse = True)\n",
    "print ('SelectKBest scores: ', sorted_scores)\n",
    "\n",
    "kBest_features = POI_label + [(i[0]) for i in sorted_scores[0:10]]\n",
    "print ('KBest', kBest_features)\n",
    "\n",
    "for emp in data_dict:\n",
    "    for f in data_dict[emp]:\n",
    "        if data_dict[emp][f] == 'NaN':\n",
    "            # fill NaN values\n",
    "            data_dict[emp][f] = 0\n",
    "\n",
    "my_dataset = data_dict\n",
    "\n",
    "kBest_features.remove('fraction_to_poi')\n"
   ]
  },
  {
   "cell_type": "code",
   "execution_count": 727,
   "metadata": {},
   "outputs": [],
   "source": [
    "# dataset without new features\n",
    "from sklearn import preprocessing\n",
    "data = featureFormat(my_dataset, kBest_features, sort_keys = True)\n",
    "labels, features = targetFeatureSplit(data)\n",
    "scaler = preprocessing.MinMaxScaler()\n",
    "features = scaler.fit_transform(features)\n",
    "\n"
   ]
  },
  {
   "cell_type": "code",
   "execution_count": 733,
   "metadata": {},
   "outputs": [
    {
     "name": "stdout",
     "output_type": "stream",
     "text": [
      "NB accuracy:  0.8863636363636364\n",
      "NB precision:  0.5\n",
      "NB recall:  0.6\n"
     ]
    }
   ],
   "source": [
    "# split 40% of the data for testing\n",
    "from sklearn.model_selection import train_test_split\n",
    "features_train, features_test, labels_train, labels_test = \\\n",
    "    train_test_split(features, labels, test_size=0.3, random_state=42)\n",
    "\n",
    "from sklearn.metrics import accuracy_score, precision_score, recall_score\n",
    "\n",
    "# Provided to give you a starting point. Try a variety of classifiers.\n",
    "from sklearn.naive_bayes import GaussianNB\n",
    "from time import time\n",
    "clf1 = GaussianNB()\n",
    "clf1.fit(features_train, labels_train)\n",
    "pred = clf1.predict(features_test)\n",
    "nb_score = clf1.score(features_test, labels_test)\n",
    "nb_acc = accuracy_score(labels_test, pred)\n",
    "nb_pre = precision_score(labels_test, pred)\n",
    "nb_rec = recall_score(labels_test, pred)\n",
    "print (\"NB accuracy: \", nb_acc)\n",
    "print (\"NB precision: \", nb_pre)\n",
    "print (\"NB recall: \", nb_rec)\n"
   ]
  },
  {
   "cell_type": "code",
   "execution_count": 735,
   "metadata": {},
   "outputs": [
    {
     "name": "stdout",
     "output_type": "stream",
     "text": [
      "DT accuracy:  0.8409090909090909\n",
      "DT precision:  0.25\n",
      "DT recall:  0.2\n"
     ]
    }
   ],
   "source": [
    "from sklearn import tree\n",
    "clf2 = tree.DecisionTreeClassifier()\n",
    "clf2.fit(features_train, labels_train)\n",
    "pred = clf2.predict(features_test)\n",
    "dt_score = clf2.score(features_test, labels_test)\n",
    "\n",
    "dt_acc = accuracy_score(labels_test, pred)\n",
    "dt_pre = precision_score(labels_test, pred)\n",
    "dt_rec = recall_score(labels_test, pred)\n",
    "print (\"DT accuracy: \", dt_acc)\n",
    "print (\"DT precision: \", dt_pre)\n",
    "print (\"DT recall: \", dt_rec)"
   ]
  },
  {
   "cell_type": "code",
   "execution_count": 737,
   "metadata": {},
   "outputs": [
    {
     "name": "stdout",
     "output_type": "stream",
     "text": [
      "RF accuracy:  0.8636363636363636\n",
      "RF precision:  0.3333333333333333\n",
      "RF recall:  0.2\n"
     ]
    }
   ],
   "source": [
    "from sklearn.ensemble import RandomForestClassifier\n",
    "clf3 = RandomForestClassifier(n_estimators=10)\n",
    "clf3.fit(features_train, labels_train)\n",
    "pred = clf3.predict(features_test)\n",
    "# rf_score = clf3.score(features_test, labels_test)\n",
    "\n",
    "rf_acc = accuracy_score(labels_test, pred)\n",
    "rf_pre = precision_score(labels_test, pred)\n",
    "rf_rec = recall_score(labels_test, pred)\n",
    "print (\"RF accuracy: \", rf_acc)\n",
    "print (\"RF precision: \", rf_pre)\n",
    "print (\"RF recall: \", rf_rec)"
   ]
  },
  {
   "cell_type": "code",
   "execution_count": 738,
   "metadata": {},
   "outputs": [],
   "source": [
    "pickle.dump(clf, open(\"my_classifier.pkl\", \"wb\") )\n",
    "pickle.dump(data_dict, open(\"my_dataset.pkl\", \"wb\") )\n",
    "pickle.dump(features_list, open(\"my_feature_list.pkl\", \"wb\") )"
   ]
  },
  {
   "cell_type": "code",
   "execution_count": null,
   "metadata": {},
   "outputs": [],
   "source": []
  }
 ],
 "metadata": {
  "kernelspec": {
   "display_name": "Python 3",
   "language": "python",
   "name": "python3"
  },
  "language_info": {
   "codemirror_mode": {
    "name": "ipython",
    "version": 3
   },
   "file_extension": ".py",
   "mimetype": "text/x-python",
   "name": "python",
   "nbconvert_exporter": "python",
   "pygments_lexer": "ipython3",
   "version": "3.6.9"
  }
 },
 "nbformat": 4,
 "nbformat_minor": 4
}
